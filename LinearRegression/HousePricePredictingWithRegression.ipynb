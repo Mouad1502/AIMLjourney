{
  "nbformat": 4,
  "nbformat_minor": 0,
  "metadata": {
    "colab": {
      "provenance": [],
      "authorship_tag": "ABX9TyPjJypRLhR3KLZr7Mw/DBcX"
    },
    "kernelspec": {
      "name": "python3",
      "display_name": "Python 3"
    },
    "language_info": {
      "name": "python"
    }
  },
  "cells": [
    {
      "cell_type": "code",
      "source": [
        "!pip install kaggle==1.5.12\n"
      ],
      "metadata": {
        "colab": {
          "base_uri": "https://localhost:8080/"
        },
        "id": "DEFKCyL5qXHf",
        "outputId": "a0b578af-4b04-4031-846c-f7d7bbf6e18d"
      },
      "execution_count": 1,
      "outputs": [
        {
          "output_type": "stream",
          "name": "stdout",
          "text": [
            "Collecting kaggle==1.5.12\n",
            "  Downloading kaggle-1.5.12.tar.gz (58 kB)\n",
            "\u001b[?25l     \u001b[90m━━━━━━━━━━━━━━━━━━━━━━━━━━━━━━━━━━━━━━━━\u001b[0m \u001b[32m0.0/59.0 kB\u001b[0m \u001b[31m?\u001b[0m eta \u001b[36m-:--:--\u001b[0m\r\u001b[2K     \u001b[90m━━━━━━━━━━━━━━━━━━━━━━━━━━━━━━━━━━━━━━━━\u001b[0m \u001b[32m59.0/59.0 kB\u001b[0m \u001b[31m2.3 MB/s\u001b[0m eta \u001b[36m0:00:00\u001b[0m\n",
            "\u001b[?25h  Preparing metadata (setup.py) ... \u001b[?25l\u001b[?25hdone\n",
            "Requirement already satisfied: six>=1.10 in /usr/local/lib/python3.11/dist-packages (from kaggle==1.5.12) (1.17.0)\n",
            "Requirement already satisfied: certifi in /usr/local/lib/python3.11/dist-packages (from kaggle==1.5.12) (2025.1.31)\n",
            "Requirement already satisfied: python-dateutil in /usr/local/lib/python3.11/dist-packages (from kaggle==1.5.12) (2.8.2)\n",
            "Requirement already satisfied: requests in /usr/local/lib/python3.11/dist-packages (from kaggle==1.5.12) (2.32.3)\n",
            "Requirement already satisfied: tqdm in /usr/local/lib/python3.11/dist-packages (from kaggle==1.5.12) (4.67.1)\n",
            "Requirement already satisfied: python-slugify in /usr/local/lib/python3.11/dist-packages (from kaggle==1.5.12) (8.0.4)\n",
            "Requirement already satisfied: urllib3 in /usr/local/lib/python3.11/dist-packages (from kaggle==1.5.12) (2.3.0)\n",
            "Requirement already satisfied: text-unidecode>=1.3 in /usr/local/lib/python3.11/dist-packages (from python-slugify->kaggle==1.5.12) (1.3)\n",
            "Requirement already satisfied: charset-normalizer<4,>=2 in /usr/local/lib/python3.11/dist-packages (from requests->kaggle==1.5.12) (3.4.1)\n",
            "Requirement already satisfied: idna<4,>=2.5 in /usr/local/lib/python3.11/dist-packages (from requests->kaggle==1.5.12) (3.10)\n",
            "Building wheels for collected packages: kaggle\n",
            "  Building wheel for kaggle (setup.py) ... \u001b[?25l\u001b[?25hdone\n",
            "  Created wheel for kaggle: filename=kaggle-1.5.12-py3-none-any.whl size=73026 sha256=6fe5074184d9060b591c880415061249e3d4f9278f44524b698241088a6ec553\n",
            "  Stored in directory: /root/.cache/pip/wheels/2e/27/39/f44e52756a6407b444143f233abe9fda0e18a23e8b20e0cd1c\n",
            "Successfully built kaggle\n",
            "Installing collected packages: kaggle\n",
            "  Attempting uninstall: kaggle\n",
            "    Found existing installation: kaggle 1.6.17\n",
            "    Uninstalling kaggle-1.6.17:\n",
            "      Successfully uninstalled kaggle-1.6.17\n",
            "Successfully installed kaggle-1.5.12\n"
          ]
        }
      ]
    },
    {
      "cell_type": "code",
      "source": [
        "!mkdir ~/.kaggle\n",
        "!cp kaggle.json ~/.kaggle/\n",
        "!chmod 600 ~/.kaggle/kaggle.json"
      ],
      "metadata": {
        "id": "6zobYrh2qc4K"
      },
      "execution_count": 2,
      "outputs": []
    },
    {
      "cell_type": "code",
      "source": [
        "!kaggle datasets download -d yasserh/housing-prices-dataset\n"
      ],
      "metadata": {
        "colab": {
          "base_uri": "https://localhost:8080/"
        },
        "id": "qqyhwqQ9rFV1",
        "outputId": "b5266a0d-5c81-49fb-db7e-7eb22edb1a51"
      },
      "execution_count": 3,
      "outputs": [
        {
          "output_type": "stream",
          "name": "stdout",
          "text": [
            "Downloading housing-prices-dataset.zip to /content\n",
            "\r  0% 0.00/4.63k [00:00<?, ?B/s]\n",
            "\r100% 4.63k/4.63k [00:00<00:00, 1.51MB/s]\n"
          ]
        }
      ]
    },
    {
      "cell_type": "code",
      "source": [
        "!unzip housing-prices-dataset.zip"
      ],
      "metadata": {
        "colab": {
          "base_uri": "https://localhost:8080/"
        },
        "id": "HmWcXDE3rGef",
        "outputId": "92075c34-6cda-454a-c330-7b2cb2eea242"
      },
      "execution_count": 4,
      "outputs": [
        {
          "output_type": "stream",
          "name": "stdout",
          "text": [
            "Archive:  housing-prices-dataset.zip\n",
            "  inflating: Housing.csv             \n"
          ]
        }
      ]
    },
    {
      "cell_type": "code",
      "source": [
        "# prompt: HousePricePredictingWithRegression\n",
        "\n",
        "import pandas as pd\n",
        "import numpy as np\n",
        "from sklearn.model_selection import train_test_split\n",
        "from sklearn.linear_model import LinearRegression\n",
        "from sklearn.metrics import mean_squared_error, r2_score\n",
        "from sklearn.preprocessing import OneHotEncoder  # Import OneHotEncoder\n",
        "\n",
        "try:\n",
        "    df = pd.read_csv('Housing.csv')\n",
        "except FileNotFoundError:\n",
        "    print(\"Error: 'Housing.csv' not found. Please make sure the file exists and the path is correct.\")\n",
        "    exit()\n",
        "\n",
        "# Data preprocessing (example - adapt to your specific data)\n",
        "# 1. Handle missing values (example: fill with mean)\n",
        "for col in df.columns:\n",
        "    if df[col].isnull().any():\n",
        "        df[col].fillna(df[col].mean(), inplace=True)\n",
        "\n",
        "\n",
        "# 2. Feature selection (example: select relevant features)\n",
        "features = ['area', 'bedrooms', 'bathrooms', 'stories', 'mainroad', 'guestroom', 'basement', 'hotwaterheating', 'airconditioning', 'parking', 'prefarea', 'furnishingstatus']\n",
        "X = df[features]\n",
        "y = df['price'] # Assuming 'price' is the target variable\n",
        "\n",
        "# 3. One-Hot Encoding for categorical features\n",
        "categorical_features = ['mainroad', 'guestroom', 'basement', 'hotwaterheating', 'airconditioning', 'prefarea', 'furnishingstatus']\n",
        "encoder = OneHotEncoder(sparse_output=False, handle_unknown='ignore') # Create OneHotEncoder instance\n",
        "encoded_data = encoder.fit_transform(X[categorical_features]) # Fit and transform categorical features\n",
        "encoded_df = pd.DataFrame(encoded_data, columns=encoder.get_feature_names_out(categorical_features)) # Create DataFrame from encoded data\n",
        "X = X.drop(categorical_features, axis=1) # Drop original categorical features\n",
        "X = pd.concat([X, encoded_df], axis=1) # Concatenate encoded features with numerical features\n",
        "\n",
        "\n",
        "# 4. Split the data into training and testing sets\n",
        "X_train, X_test, y_train, y_test = train_test_split(X, y, test_size=0.2, random_state=42)\n",
        "\n",
        "# Model training\n",
        "model = LinearRegression()\n",
        "model.fit(X_train, y_train)\n",
        "\n",
        "# Make predictions\n",
        "y_pred = model.predict(X_test)\n",
        "\n",
        "# Evaluate the model\n",
        "mse = mean_squared_error(y_test, y_pred)\n",
        "r2 = r2_score(y_test, y_pred)\n",
        "\n",
        "print(f\"Mean Squared Error: {mse}\")\n",
        "print(f\"R-squared: {r2}\")\n",
        "\n",
        "# Example prediction for a new house\n",
        "# Create a dictionary with the same features used during training\n",
        "new_house_data = pd.DataFrame({\n",
        "    'area': [1500],  # Assuming 'sqft_living' should be 'area'\n",
        "    'bedrooms': [3],\n",
        "    'bathrooms': [2],\n",
        "    'stories': [1],  # You need to provide values for all features\n",
        "    'mainroad': ['yes'],  # Example value, replace with actual\n",
        "    'guestroom': ['no'],  # Example value, replace with actual\n",
        "    'basement': ['no'],  # Example value, replace with actual\n",
        "    'hotwaterheating': ['no'],  # Example value, replace with actual\n",
        "    'airconditioning': ['no'],  # Example value, replace with actual\n",
        "    'parking': [1],  # Example value, replace with actual\n",
        "    'prefarea': ['yes'],  # Example value, replace with actual\n",
        "    'furnishingstatus': ['furnished']  # Example value, replace with actual\n",
        "})\n",
        "\n",
        "# One-Hot Encoding for the new data\n",
        "categorical_features = ['mainroad', 'guestroom', 'basement', 'hotwaterheating', 'airconditioning', 'prefarea', 'furnishingstatus']\n",
        "# Use the same encoder used during training to transform new data\n",
        "encoded_data = encoder.transform(new_house_data[categorical_features])\n",
        "encoded_df = pd.DataFrame(encoded_data, columns=encoder.get_feature_names_out(categorical_features))\n",
        "new_house_data = new_house_data.drop(categorical_features, axis=1)\n",
        "new_house_data = pd.concat([new_house_data, encoded_df], axis=1)\n",
        "\n",
        "predicted_price = model.predict(new_house_data)\n",
        "print(f\"Predicted price for new house: {predicted_price[0]}\")"
      ],
      "metadata": {
        "colab": {
          "base_uri": "https://localhost:8080/"
        },
        "id": "4vKwgfvtqCJn",
        "outputId": "6244e1ea-19b6-493f-b253-cb460378d130"
      },
      "execution_count": 8,
      "outputs": [
        {
          "output_type": "stream",
          "name": "stdout",
          "text": [
            "Mean Squared Error: 1754318687330.6616\n",
            "R-squared: 0.6529242642153188\n",
            "Predicted price for new house: 4663340.262778299\n"
          ]
        }
      ]
    }
  ]
}